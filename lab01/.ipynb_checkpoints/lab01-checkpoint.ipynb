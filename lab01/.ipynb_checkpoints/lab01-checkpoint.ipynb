{
 "cells": [
  {
   "cell_type": "markdown",
   "metadata": {},
   "source": [
    "# Setup/Jupyter Notebook\n",
    "\n",
    "Welcome to Data Science 1: Essentials of Data Programming! This our first lab session. Each week you will complete one lab work like this one. Here are the administrative instructions.\n",
    "\n",
    "## Lab Attendance\n",
    "Attending the labs is strongly recommended but not mandatory. However, you will need the experience to do the homeworks.\n",
    "\n",
    "\n",
    "## Homework\n",
    "\n",
    "\n",
    "\n",
    "\n",
    "\n",
    "\n",
    "\n",
    "\n",
    "Furthermore, you will have one assignment biweekly. \n",
    "\n",
    "You cannot learn technical subjects without hands-on practice, so labs are an important part of the course.\n",
    "\n",
    "\n",
    "  Submitting the homeworks is mandatory and we will grade them. \n",
    "Only students who received more than 70% of the homework credits are eligible for the exam.\n",
    "\n",
    "Collaborating on labs is more than okay -- it is encouraged! You should rarely be stuck for more than a few minutes on questions in labs, so ask a neighbor or an instructor for help. (Explaining things is beneficial, too -- the best way to solidify your knowledge of a subject is to explain it.) Please do not just share answers, though.\n",
    "\n",
    "\n",
    "#### Today's lab\n",
    "\n",
    "Today, we just learn how to setup the system, get the lab works and homeworks, and submit them."
   ]
  },
  {
   "cell_type": "code",
   "execution_count": null,
   "metadata": {},
   "outputs": [],
   "source": []
  },
  {
   "cell_type": "markdown",
   "metadata": {},
   "source": [
    "Congratulations! You're done with Lab 0!  Choose **Save and Checkpoint** from the **File** menu."
   ]
  }
 ],
 "metadata": {
  "anaconda-cloud": {},
  "kernelspec": {
   "display_name": "Python 3",
   "language": "python",
   "name": "python3"
  },
  "language_info": {
   "codemirror_mode": {
    "name": "ipython",
    "version": 3
   },
   "file_extension": ".py",
   "mimetype": "text/x-python",
   "name": "python",
   "nbconvert_exporter": "python",
   "pygments_lexer": "ipython3",
   "version": "3.6.8"
  }
 },
 "nbformat": 4,
 "nbformat_minor": 1
}
