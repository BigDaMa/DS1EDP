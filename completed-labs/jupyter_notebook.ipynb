{
 "cells": [
  {
   "cell_type": "markdown",
   "metadata": {},
   "source": [
    "# Setup/Jupyter Notebook\n",
    "\n",
    "Welcome to the first lab of Data Science 1: Essentials of Data Programming!  \n",
    "\n",
    "\n",
    "## 1. Administrative Instructions\n",
    "\n",
    "### 1.1. Labs\n",
    "Every week you will complete one lab work like this one. Whenever, we announce that a new lab notebook is released, you can receive it by clicking on the *pull repository* link in the ISIS page.\n",
    "\n",
    "\n",
    "### 1.2. Labs Attendance\n",
    "Attending the labs is strongly recommended but not mandatory. However, you cannot learn technical subjects without hands-on practice, so labs are an important part of the course. Furthermore, you will need the experience to do the homework.\n",
    "\n",
    "### 1.3. Colaboration\n",
    "Collaborating on labs is more than okay -- it is encouraged! You should rarely be stuck for more than a few minutes on questions in labs, so ask a neighbor or an instructor for help. Please do not just share answers, though.\n",
    "\n",
    "### 1.4. Homework\n",
    "You will have one homework biweekly. Submitting the homeworks is mandatory and we will grade them. Only students who received more than the minimum required homework credit are eligible for the exam. Whenever, we announce that a new homework with a particular deadline is released, you should do the followings:\n",
    "1. Go to the *Assignments* tab.\n",
    "2. Select the latest homework and press the *Fetch* button.\n",
    "3. Open the new notebook and answer the questions.\n",
    "4. Save the notebook with the menu *Save and Checkpoint*.\n",
    "5. Submit the homework with the *Submit* button.\n",
    "\n",
    "You can submit a homework as many times as you want. The last submission is always stored and graded. Make sure that you submit your homework always before the deadline. \n",
    "\n",
    "### 1.5. Getting Feedback\n",
    "Your homework will be graded automatically as you are more than 100 students. So, it is not feasible for us to manually grade your homework and give you personal feedback. However, we publish the solutions after the deadline of each homework, so you can check your solution against ours. The following algorithm helps you evaluate your solotions. \n",
    "\n",
    "For each question with P points in the homework notebook, you have your answer and our released answer.\n",
    "+ If your answer is the same as our answer:\n",
    "    + Then everything is fine and you have got the P points.\n",
    "+ Else:\n",
    "    + Run both your answer and our answer.\n",
    "    + If both answers generate the same results:\n",
    "        + Again everything is fine and we just have different solutions for the same problem. In this case, maybe our auto grader script fails to give you the P points but that does not change the fact that you were right.\n",
    "    + Else:\n",
    "        + In this case, you were probably wrong. You may want to think about our solution to understand your mistake.  If you could not understand your mistake, which should be a very rare event, you may send your specific question to us.\n",
    "\n",
    "### 1.6. Contacting US\n",
    "Let us repeat together that\n",
    "> ISIS is a terrorist group, not a messenger!\n",
    "\n",
    "We cannot check and reply to ISIS messages. So, please only contact us by **email**. You can find our email addresses on our research group website (https://www.bigdama.tu-berlin.de/).\n",
    "\n",
    "Furthermore, You are more than 100 students. Handling the emails and questions of this number of students would be hard for anybody. So, we will be grateful if, before sending any email to us, you ask the following questions from yourself:\n",
    "- Do I really need to know the answer?\n",
    "    - Maybe, knowing the exact population of the earth would be just a useless piece of information for you.\n",
    "- Do I not know the answer of this question?\n",
    "    - Maybe, we already answered this question several times in the introductory slides or notebooks.\n",
    "- Does it make any difference to know the answer of this question?\n",
    "    - Maybe, the answer of this question does not make any difference for your latent goal.\n",
    "\n",
    "### 1.7. Labs and Homework Overview\n",
    "The overview of our labs and homework will be more or less as follows.\n",
    "<img src=\"overview.png\"/>\n",
    "\n",
    "\n",
    "\n"
   ]
  },
  {
   "cell_type": "markdown",
   "metadata": {},
   "source": [
    "# 2. Jupyter Notebooks\n",
    "This webpage is called a Jupyter notebook. A notebook is a place to write programs and view their results.\n",
    "\n",
    "## 2.1. Text Cells\n",
    "In a notebook, each rectangle containing text or code is called a *cell*.\n",
    "\n",
    "Text cells (like this one) can be edited by double-clicking on them. They're written in a simple format called [Markdown](http://daringfireball.net/projects/markdown/syntax) to add formatting and section headings.  You don't need to learn Markdown, but you might want to.\n",
    "\n",
    "After you edit a text cell, click the \"run cell\" button at the top that looks like ▶| to confirm any changes. (Try not to delete the instructions of the lab.)"
   ]
  },
  {
   "cell_type": "markdown",
   "metadata": {},
   "source": [
    "**Question 2.1.1.** This paragraph is in its own text cell.  Try editing it so that this sentence is the last sentence in the paragraph, and then click the \"run cell\" ▶| button .  This sentence, for example, should be deleted.  So should this one."
   ]
  },
  {
   "cell_type": "markdown",
   "metadata": {},
   "source": [
    "## 2.2. Code Cells\n",
    "Other cells contain code in the Python 3 language. Running a code cell will execute all of the code it contains.\n",
    "\n",
    "To run the code in a code cell, first click on that cell to activate it.  It'll be highlighted with a little green or blue rectangle.  Next, either press ▶| or hold down the `shift` key and press `return` or `enter`.\n",
    "\n",
    "Try running this cell:"
   ]
  },
  {
   "cell_type": "code",
   "execution_count": null,
   "metadata": {},
   "outputs": [],
   "source": [
    "print(\"Hello, World!\")"
   ]
  },
  {
   "cell_type": "markdown",
   "metadata": {},
   "source": [
    "And this one:"
   ]
  },
  {
   "cell_type": "code",
   "execution_count": null,
   "metadata": {},
   "outputs": [],
   "source": [
    "print(\"\\N{WAVING HAND SIGN}, \\N{EARTH GLOBE ASIA-AUSTRALIA}!\")"
   ]
  },
  {
   "cell_type": "markdown",
   "metadata": {},
   "source": [
    "The fundamental building block of Python code is an expression. Cells can contain multiple lines with multiple expressions. When you run a cell, the lines of code are executed in the order in which they appear. Every `print` expression prints a line. Run the next cell and notice the order of the output."
   ]
  },
  {
   "cell_type": "code",
   "execution_count": null,
   "metadata": {},
   "outputs": [],
   "source": [
    "print(\"First this line is printed,\")\n",
    "print(\"and then this one.\")"
   ]
  },
  {
   "cell_type": "markdown",
   "metadata": {},
   "source": [
    "**Question 2.2.1.** Change the cell above so that it prints out:\n",
    "\n",
    "    First this line,\n",
    "    then the whole 🌏,\n",
    "    and then this one.\n",
    "\n",
    "*Hint:* If you're stuck on the Earth symbol for more than a few minutes, try talking to a neighbor or a TA.  That's a good idea for any lab problem."
   ]
  },
  {
   "cell_type": "markdown",
   "metadata": {},
   "source": [
    "## 2.3. Writing Jupyter notebooks\n",
    "You can use Jupyter notebooks for your own projects or documents.  When you make your own notebook, you'll need to create your own cells for text and code.\n",
    "\n",
    "To add a cell, click the + button in the menu bar.  It'll start out as a text cell.  You can change it to a code cell by clicking inside it so it's highlighted, clicking the drop-down box next to the restart (⟳) button in the menu bar, and choosing \"Code\".\n",
    "\n",
    "**Question 2.3.1.** Add a code cell below this one.  Write code in it that prints out:\n",
    "   \n",
    "    A whole new cell! ♪🌏♪\n",
    "\n",
    "(That musical note symbol is like the Earth symbol.  Its long-form name is `\\N{EIGHTH NOTE}`.)\n",
    "\n",
    "Run your cell to verify that it works."
   ]
  },
  {
   "cell_type": "markdown",
   "metadata": {},
   "source": [
    "## 2.4. Errors\n",
    "Python is a language, and like natural human languages, it has rules.  It differs from natural language in two important ways:\n",
    "1. The rules are *simple*.  You can learn most of them in a few weeks and gain reasonable proficiency with the language in a semester.\n",
    "2. The rules are *rigid*.  If you're proficient in a natural language, you can understand a non-proficient speaker, glossing over small mistakes.  A computer running Python code is not smart enough to do that.\n",
    "\n",
    "Whenever you write code, you'll make mistakes.  When you run a code cell that has errors, Python will sometimes produce error messages to tell you what you did wrong.\n",
    "\n",
    "Errors are okay; even experienced programmers make many errors.  When you make an error, you just have to find the source of the problem, fix it, and move on.\n",
    "\n",
    "We have made an error in the next cell.  Run it and see what happens."
   ]
  },
  {
   "cell_type": "code",
   "execution_count": null,
   "metadata": {},
   "outputs": [],
   "source": [
    "print(\"This line is missing something.\""
   ]
  },
  {
   "cell_type": "markdown",
   "metadata": {},
   "source": [
    "You should see something like this (minus our annotations):\n",
    "\n",
    "<img src=\"error.jpg\"/>\n",
    "\n",
    "The last line of the error output attempts to tell you what went wrong.  The *syntax* of a language is its structure, and this `SyntaxError` tells you that you have created an illegal structure.  \"`EOF`\" means \"end of file,\" so the message is saying Python expected you to write something more (in this case, a right parenthesis) before finishing the cell.\n",
    "\n",
    "There's a lot of terminology in programming languages, but you don't need to know it all in order to program effectively. If you see a cryptic message like this, you can often get by without deciphering it.  (Of course, if you're frustrated, ask a neighbor or a TA for help.)\n",
    "\n",
    "Try to fix the code above so that you can run the cell and see the intended message instead of an error."
   ]
  },
  {
   "cell_type": "markdown",
   "metadata": {},
   "source": [
    "## 2.5. The Kernel\n",
    "The kernel is a program that executes the code inside your notebook and outputs the results. In the top right of your window, you can see a circle that indicates the status of your kernel. If the circle is empty (⚪), the kernel is idle and ready to execute code. If the circle is filled in (⚫), the kernel is busy running some code. \n",
    "\n",
    "You may run into problems where your kernel is stuck for an excessive amount of time, your notebook is very slow and unresponsive, or your kernel loses its connection. If this happens, try the following steps:\n",
    "1. At the top of your screen, click **Kernel**, then **Interrupt**.\n",
    "2. If that doesn't help, click **Kernel**, then **Restart**. If you do this, you will have to run your code cells from the start of your notebook up until where you paused your work.\n",
    "3. If that doesn't help, restart your server. First, save your work by clicking **File** at the top left of your screen, then **Save and Checkpoint**. Next, click **Control Panel** at the top right. Choose **Stop My Server** to shut it down, then **My Server** to start it back up. Then, navigate back to the notebook you were working on."
   ]
  },
  {
   "cell_type": "markdown",
   "metadata": {},
   "source": [
    "Congratulations! You're done with Lab 1!  Choose **Save and Checkpoint** from the **File** menu."
   ]
  }
 ],
 "metadata": {
  "anaconda-cloud": {},
  "kernelspec": {
   "display_name": "Python 3",
   "language": "python",
   "name": "python3"
  },
  "language_info": {
   "codemirror_mode": {
    "name": "ipython",
    "version": 3
   },
   "file_extension": ".py",
   "mimetype": "text/x-python",
   "name": "python",
   "nbconvert_exporter": "python",
   "pygments_lexer": "ipython3",
   "version": "3.7.2"
  }
 },
 "nbformat": 4,
 "nbformat_minor": 1
}
