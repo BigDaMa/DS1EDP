{
 "cells": [
  {
   "cell_type": "markdown",
   "metadata": {},
   "source": [
    "## Examining the Therapeutic Touch\n",
    "\n",
    "After such an extensive introduction to programming for data science, we are finally moving into the section of the course where we can apply our new skils to answer real questions.  \n",
    "\n",
    "In this lab, we'll use testing techniques that were introduced in lecture to test the idea of the therapeutic touch, the idea that some practictioners can feel and massage your human energy field. "
   ]
  },
  {
   "cell_type": "code",
   "execution_count": 1,
   "metadata": {},
   "outputs": [],
   "source": [
    "# Run this cell, but please don't change it.\n",
    "\n",
    "# These lines import the Numpy and Datascience modules.\n",
    "import numpy as np\n",
    "from datascience import *\n",
    "\n",
    "# These lines do some fancy plotting magic\n",
    "import matplotlib\n",
    "%matplotlib inline\n",
    "import matplotlib.pyplot as plt\n",
    "plt.style.use('fivethirtyeight')\n",
    "import warnings\n",
    "warnings.simplefilter('ignore', FutureWarning)\n",
    "from matplotlib import patches\n",
    "from ipywidgets import interact, interactive, fixed\n",
    "import ipywidgets as widgets"
   ]
  },
  {
   "cell_type": "markdown",
   "metadata": {},
   "source": [
    "### What is the Therapeutic Touch\n",
    "\n",
    "The Therapeutic Touch (TT) is the idea that everyone can feel the Human Energy Field (HEF) around individuals. Certain practictioners claim they have the ability to feel the HEF and can massage it in order to promote health and relaxation in individuals. Those who practice TT have described different people's HEFs as \"warm as Jell-O\" and \"tactile as taffy\". \n",
    "\n",
    "TT was a popular technique used throughout the 20th century that was toted to be a great way to bring balance to a person's health. \n",
    "\n",
    "### Emily Rosa\n",
    "\n",
    "Emily Rosa was a 4th grade student who had wide exposure to the world of TT due to her parents. Her parents were both medical practitioners and skeptics of the idea of TT. \n",
    "\n",
    "For her 4th grade science fair project, Emily decided to test whether or not TT practitioners could truly interact with a person's HEF. "
   ]
  },
  {
   "cell_type": "markdown",
   "metadata": {},
   "source": [
    "### Emily's Experiment\n",
    "\n",
    "Emily's experiment was clean, simple, and effective. Due to her parents' occupations in the medical field, she had wide access to people who claimed to be TT practitioners. \n",
    "\n",
    "Emily took 21 TT practitioners and used them for her science experiment. She would take a TT practitioner and ask them to extend their hands through a screen (through which they can't see). Emily would be on the other side and would flip a coin. Depending on how the coin landed, she would put out either her left hand or her right hand. The TT practitioner would then have to correctly answer which hand Emily put out. Overall, through 210 samples, the practitioner picked the correct hand 44% of the time. \n",
    "\n",
    "Emily's main goal here was to test whether or not the TT practicioners' guesses were random, like the flip of a coin. In most medical experiments, this is the norm. We want to test whether or not the treatment has an effect, *not* whether or not the treatment actually works. \n",
    "\n",
    "We will now begin to formulate this experiment in terms of the terminology we learned in this course. "
   ]
  },
  {
   "cell_type": "markdown",
   "metadata": {},
   "source": [
    "**Question 1**: What are the null and alternative hypothesis for Emily's experiment? Discuss with students around you to come to a conclusion. "
   ]
  },
  {
   "cell_type": "markdown",
   "metadata": {
    "for_assignment_type": "student"
   },
   "source": [
    "**Your Answer Here:**\n",
    "\n",
    "Null Hypothesis: They answer randomly. they correctness probability is 50%. if we obsever something else, it is just because of chance.\n",
    "\n",
    "Alternative Hypothesis: No. they do not answer randomly. the correctness proability is not 50%."
   ]
  },
  {
   "cell_type": "markdown",
   "metadata": {},
   "source": [
    "**Question 2:** Remember that the practitioner got the correct answer 44% of the time. According to the null hypothesis, on average, what proportion of times do we expect the practitioner to guess the correct hand? Make sure your answer is between 0 and 1. "
   ]
  },
  {
   "cell_type": "code",
   "execution_count": 4,
   "metadata": {},
   "outputs": [
    {
     "data": {
      "text/plain": [
       "0.5"
      ]
     },
     "execution_count": 4,
     "metadata": {},
     "output_type": "execute_result"
    }
   ],
   "source": [
    "expected_correct = 0.5\n",
    "expected_correct"
   ]
  },
  {
   "cell_type": "markdown",
   "metadata": {},
   "source": [
    "The goal now is to see if our deviation from this expected proportion of correct answers is due to something other than chance. \n",
    "\n",
    "**Question 3:** What is a valid test statistic we can use to test our model? Assign `valid_ts` to a list of integers representing the following options: \n",
    "\n",
    "1. The difference of the expected percent correct and the actual percent correct\n",
    "2. The absolute difference of the expected percent correct and the actual percent correct\n",
    "3. The sum of the expected percent correct and the actual percent correct\n",
    "\n",
    "There may be more than one correct answer. "
   ]
  },
  {
   "cell_type": "code",
   "execution_count": null,
   "metadata": {},
   "outputs": [],
   "source": [
    "valid_ts = 2\n",
    "valid_ts"
   ]
  },
  {
   "cell_type": "markdown",
   "metadata": {},
   "source": [
    "**Question 4:** Define the function `test_statistic` which takes in an expected proportion and an actual proportion, and returns the value of the test statistic chosen above. Assume that you are taking in proportions, but you want to return your answer as a percentage. \n",
    "\n",
    "*Hint:* Remember we are asking for a **percentage**, not a proportion. "
   ]
  },
  {
   "cell_type": "code",
   "execution_count": 2,
   "metadata": {},
   "outputs": [],
   "source": [
    "def test_statistic(expected_prop, actual_prop):\n",
    "    return 100 * abs(expected_prop - actual_prop)\n"
   ]
  },
  {
   "cell_type": "markdown",
   "metadata": {},
   "source": [
    "**Question 5:** Use your newly defined function to calculate the observed test statistic from Emily's experiment. "
   ]
  },
  {
   "cell_type": "code",
   "execution_count": 5,
   "metadata": {},
   "outputs": [
    {
     "data": {
      "text/plain": [
       "6.0"
      ]
     },
     "execution_count": 5,
     "metadata": {},
     "output_type": "execute_result"
    }
   ],
   "source": [
    "observed_test_statistic = test_statistic(expected_correct, 0.44)\n",
    "observed_test_statistic"
   ]
  },
  {
   "cell_type": "markdown",
   "metadata": {},
   "source": [
    "**Is this test statistic likely if the null hypothesis was true? Or is the deviation from the expected proportion due to something other than chance?**\n",
    "\n",
    "In order to answer this question, we must simulate the experiment as though the null hypothesis was true, and calculate the test statistic per each simulation.\n",
    "\n",
    "**Question 6:** To begin simulating, we should start by creating an array which has two items in it. The first item should be the proportion of times, assuming the null model is true, a TT practictioner picks the correct hand. The second item should be the proportion of times, under the same assumption, that the TT practicioner picks the incorrect hand. Assign `model_proportions` to this array. After this, simulate, using the `sample_proportions` function, Emily running through this experiment 210 times (as done in real life), and assign the proportion of correct answers to `simulation_proportion`. Lastly, define `one_test_statistic` to the test statistic of this one simulation. \n",
    "\n",
    "*Hint:* `sample_proportions` usage can be found here: [here](http://data8.org/sp18/python-reference.html)"
   ]
  },
  {
   "cell_type": "code",
   "execution_count": 13,
   "metadata": {},
   "outputs": [
    {
     "data": {
      "text/plain": [
       "1.428571428571429"
      ]
     },
     "execution_count": 13,
     "metadata": {},
     "output_type": "execute_result"
    }
   ],
   "source": [
    "model_proportions = [0.5, 0.5]\n",
    "simulation_proportion = sample_proportions(210, model_proportions)\n",
    "one_test_statistic = test_statistic(expected_correct, simulation_proportion.item(0))\n",
    "one_test_statistic"
   ]
  },
  {
   "cell_type": "markdown",
   "metadata": {},
   "source": [
    "**Question 7:** Let's now see what the distribution of test statistics is actually like under our fully specified model. Assign `simulated_test_statistics` to an array of 1000 test statistics that you simulated assuming the null hypothesis is true. \n",
    "\n",
    "*Hint:* This should follow the same pattern as normal simulations, in combination with the code you did in the previous problem.  "
   ]
  },
  {
   "cell_type": "code",
   "execution_count": 14,
   "metadata": {
    "for_assignment_type": "student",
    "scrolled": true
   },
   "outputs": [
    {
     "data": {
      "text/plain": [
       "array([ 0.95238095,  2.38095238,  1.9047619 ,  0.95238095,  2.38095238,\n",
       "        1.42857143,  1.42857143,  3.33333333,  4.28571429,  4.76190476,\n",
       "        1.42857143,  5.71428571,  2.38095238,  0.47619048,  0.95238095,\n",
       "        1.9047619 ,  1.9047619 ,  3.80952381,  4.76190476,  3.33333333,\n",
       "        0.47619048,  4.76190476,  0.        ,  0.47619048,  6.19047619,\n",
       "        1.9047619 ,  2.85714286,  2.85714286,  4.28571429,  1.42857143,\n",
       "        1.42857143,  2.38095238,  2.38095238,  6.19047619,  5.23809524,\n",
       "        0.47619048,  4.28571429,  1.42857143,  0.47619048,  0.95238095,\n",
       "        3.80952381,  5.71428571,  0.47619048,  1.42857143,  0.95238095,\n",
       "        2.85714286,  2.85714286,  0.47619048,  3.33333333,  2.38095238,\n",
       "        2.85714286,  0.47619048,  8.57142857,  0.        ,  3.33333333,\n",
       "        1.42857143,  0.47619048,  3.80952381,  4.28571429,  6.19047619,\n",
       "        0.47619048,  1.42857143,  2.38095238,  0.47619048,  0.95238095,\n",
       "        1.9047619 ,  3.80952381,  0.47619048,  4.28571429,  2.38095238,\n",
       "        3.80952381,  0.95238095,  4.28571429,  0.47619048,  3.33333333,\n",
       "        0.95238095,  4.76190476,  2.85714286,  3.33333333,  0.47619048,\n",
       "        7.61904762,  5.71428571,  2.38095238,  8.57142857,  0.95238095,\n",
       "        2.85714286,  5.23809524,  5.23809524,  1.42857143,  3.33333333,\n",
       "        0.95238095,  2.85714286,  0.47619048,  0.        ,  1.42857143,\n",
       "        4.28571429,  0.95238095,  0.95238095,  5.23809524,  0.47619048,\n",
       "        0.47619048,  0.        ,  0.        ,  8.0952381 ,  2.85714286,\n",
       "        9.52380952,  6.19047619,  2.85714286,  0.95238095,  2.38095238,\n",
       "        2.38095238,  2.85714286,  0.        ,  0.95238095,  1.42857143,\n",
       "        3.33333333,  2.38095238,  1.42857143,  5.71428571,  1.42857143,\n",
       "        3.33333333,  2.38095238,  2.85714286,  0.47619048,  1.42857143,\n",
       "        2.85714286,  3.80952381,  9.04761905,  2.38095238,  4.28571429,\n",
       "        2.38095238,  1.42857143,  2.85714286,  2.38095238,  0.95238095,\n",
       "        0.        ,  0.95238095,  4.76190476,  2.85714286,  2.38095238,\n",
       "        1.42857143,  5.23809524,  4.76190476,  3.80952381,  2.38095238,\n",
       "        2.38095238,  1.9047619 ,  1.9047619 ,  0.47619048,  4.28571429,\n",
       "        0.        ,  0.47619048,  2.38095238,  3.33333333,  1.42857143,\n",
       "        2.38095238,  5.23809524,  1.42857143,  3.80952381,  2.85714286,\n",
       "        0.95238095,  1.9047619 ,  3.33333333,  2.85714286,  3.33333333,\n",
       "        2.38095238,  2.38095238,  2.38095238,  2.38095238,  2.38095238,\n",
       "        1.9047619 ,  1.9047619 ,  2.85714286,  0.95238095,  0.95238095,\n",
       "        0.47619048,  0.        ,  5.71428571,  3.33333333,  0.95238095,\n",
       "        1.9047619 ,  5.23809524,  4.76190476,  2.38095238,  3.33333333,\n",
       "        2.85714286,  0.47619048,  7.61904762,  6.19047619,  0.        ,\n",
       "        3.33333333,  4.28571429,  0.47619048,  1.9047619 ,  1.9047619 ,\n",
       "        3.80952381,  1.42857143,  1.42857143,  3.33333333,  3.80952381,\n",
       "        2.38095238,  0.47619048,  0.47619048,  1.9047619 ,  5.23809524,\n",
       "        2.85714286,  5.23809524,  4.76190476,  1.9047619 ,  2.85714286,\n",
       "        3.33333333,  5.71428571,  2.85714286,  0.47619048,  6.19047619,\n",
       "        4.28571429,  4.76190476,  1.9047619 ,  3.80952381,  0.47619048,\n",
       "        3.80952381,  0.47619048,  2.38095238,  1.9047619 ,  7.61904762,\n",
       "        0.95238095,  0.95238095,  4.28571429,  6.19047619,  0.47619048,\n",
       "        1.42857143,  5.71428571,  0.47619048,  0.95238095,  1.42857143,\n",
       "        1.9047619 ,  0.95238095,  2.38095238,  8.0952381 ,  1.42857143,\n",
       "        5.23809524,  7.14285714,  2.38095238,  2.85714286,  5.23809524,\n",
       "        0.95238095,  2.38095238,  2.38095238,  1.9047619 ,  1.42857143,\n",
       "        0.95238095,  6.19047619,  0.95238095,  1.42857143,  1.9047619 ,\n",
       "        1.9047619 ,  1.9047619 ,  4.76190476,  0.47619048,  1.42857143,\n",
       "        1.42857143,  2.85714286,  5.23809524,  2.38095238,  3.33333333,\n",
       "        5.23809524,  5.23809524,  5.71428571,  3.80952381,  0.        ,\n",
       "        1.9047619 ,  0.95238095,  0.95238095,  2.38095238, 13.33333333,\n",
       "        4.28571429,  5.71428571,  0.        ,  0.47619048,  1.42857143,\n",
       "        4.76190476,  4.76190476,  0.        ,  9.52380952,  3.33333333,\n",
       "        1.9047619 ,  1.42857143,  2.38095238,  4.28571429,  1.42857143,\n",
       "        2.38095238,  0.95238095,  0.        ,  4.76190476,  3.80952381,\n",
       "        2.38095238,  2.85714286,  2.38095238,  3.80952381,  5.23809524,\n",
       "        7.14285714,  0.47619048,  4.28571429,  4.28571429,  3.33333333,\n",
       "        3.33333333,  6.19047619,  3.33333333,  0.95238095,  1.42857143,\n",
       "        0.47619048,  0.95238095,  3.80952381,  0.95238095,  4.76190476,\n",
       "        0.        ,  5.23809524,  2.85714286,  0.95238095,  4.28571429,\n",
       "        2.38095238,  0.47619048,  0.47619048,  1.42857143,  5.23809524,\n",
       "        1.42857143,  5.23809524,  2.38095238,  2.85714286,  0.47619048,\n",
       "        2.85714286,  5.23809524,  5.23809524,  0.47619048,  0.95238095,\n",
       "        1.42857143,  4.28571429,  3.80952381,  1.9047619 ,  0.47619048,\n",
       "        3.33333333,  2.38095238,  3.80952381,  2.38095238,  2.38095238,\n",
       "        0.        ,  0.47619048,  1.42857143,  2.38095238,  2.38095238,\n",
       "        2.38095238,  1.9047619 ,  1.9047619 ,  1.9047619 ,  1.42857143,\n",
       "        5.71428571,  0.47619048,  1.42857143,  4.76190476,  2.38095238,\n",
       "        0.47619048,  0.        ,  2.38095238,  2.85714286,  1.42857143,\n",
       "        1.9047619 ,  1.42857143,  5.23809524,  0.47619048,  4.28571429,\n",
       "        0.47619048,  8.0952381 ,  2.85714286,  1.9047619 ,  1.42857143,\n",
       "        5.23809524,  7.14285714,  7.14285714,  4.28571429,  0.95238095,\n",
       "        3.80952381,  5.23809524,  4.76190476,  1.9047619 ,  4.28571429,\n",
       "        0.95238095,  0.47619048,  0.        ,  7.14285714,  1.42857143,\n",
       "        0.95238095,  0.        ,  6.66666667,  6.66666667,  1.42857143,\n",
       "        0.95238095,  9.52380952,  3.33333333,  4.76190476,  1.9047619 ,\n",
       "        2.38095238,  0.95238095,  4.76190476,  5.23809524,  4.28571429,\n",
       "        1.9047619 ,  0.47619048,  6.66666667,  0.        ,  0.        ,\n",
       "        3.33333333,  8.0952381 ,  0.95238095,  0.        ,  8.0952381 ,\n",
       "        3.80952381,  1.9047619 ,  3.33333333,  1.9047619 ,  4.76190476,\n",
       "        0.47619048,  3.33333333,  3.80952381,  1.9047619 ,  0.95238095,\n",
       "        5.23809524,  2.38095238,  0.47619048,  2.38095238,  2.85714286,\n",
       "        0.95238095,  0.47619048,  3.33333333,  1.9047619 ,  2.38095238,\n",
       "        1.9047619 ,  5.23809524,  3.33333333,  7.14285714,  4.28571429,\n",
       "        4.28571429,  1.9047619 ,  5.23809524,  3.33333333,  4.76190476,\n",
       "        1.42857143,  7.61904762,  0.95238095,  3.80952381,  6.66666667,\n",
       "        1.9047619 ,  3.80952381,  1.42857143,  3.80952381,  0.47619048,\n",
       "        8.0952381 ,  2.85714286,  0.47619048,  1.9047619 ,  2.85714286,\n",
       "        0.95238095,  3.80952381,  0.47619048,  2.38095238,  4.76190476,\n",
       "        2.85714286,  7.14285714,  0.47619048,  0.47619048,  1.9047619 ,\n",
       "        3.80952381,  3.80952381,  0.95238095,  4.76190476,  1.42857143,\n",
       "        0.47619048,  5.23809524,  0.95238095,  0.        ,  0.        ,\n",
       "        6.66666667, 10.47619048,  3.80952381,  1.42857143,  2.85714286,\n",
       "        0.47619048,  6.19047619,  0.47619048,  3.80952381,  2.38095238,\n",
       "        0.47619048,  0.47619048,  2.38095238,  0.47619048,  0.47619048,\n",
       "        3.80952381,  1.42857143,  5.71428571,  2.85714286,  3.80952381,\n",
       "        4.28571429,  0.95238095,  1.42857143,  1.9047619 ,  3.80952381,\n",
       "        3.33333333,  3.80952381,  6.66666667,  1.42857143,  1.9047619 ,\n",
       "        4.28571429,  0.        ,  3.80952381,  0.47619048,  0.47619048,\n",
       "        0.47619048,  0.95238095,  1.9047619 ,  3.33333333,  4.28571429,\n",
       "        1.9047619 ,  2.38095238,  2.38095238,  4.76190476,  2.85714286,\n",
       "        3.80952381,  1.9047619 ,  8.0952381 ,  1.9047619 ,  6.66666667,\n",
       "        0.47619048,  1.9047619 ,  7.61904762,  1.9047619 ,  1.42857143,\n",
       "        2.85714286,  1.42857143,  4.76190476,  7.14285714,  1.9047619 ,\n",
       "        7.14285714,  0.        ,  0.95238095,  6.19047619,  0.47619048,\n",
       "        1.42857143,  7.61904762,  1.9047619 ,  1.42857143,  3.33333333,\n",
       "        1.9047619 ,  2.85714286,  2.85714286,  3.33333333,  0.47619048,\n",
       "        5.71428571,  0.        ,  4.76190476,  0.        ,  1.42857143,\n",
       "        8.0952381 ,  1.9047619 ,  1.9047619 ,  6.66666667,  7.14285714,\n",
       "        1.9047619 ,  2.38095238,  4.28571429,  0.47619048,  0.47619048,\n",
       "        4.28571429,  0.47619048,  3.33333333,  8.0952381 ,  1.42857143,\n",
       "        3.33333333,  3.33333333,  1.42857143,  2.85714286,  2.85714286,\n",
       "        3.33333333,  2.38095238,  0.47619048,  4.76190476,  1.42857143,\n",
       "        5.23809524,  0.95238095,  2.38095238,  0.47619048,  0.        ,\n",
       "        0.        ,  1.9047619 ,  3.80952381,  4.28571429,  1.42857143,\n",
       "        0.        ,  5.23809524,  1.9047619 ,  1.9047619 ,  1.9047619 ,\n",
       "        3.33333333,  1.9047619 ,  2.38095238,  0.47619048,  5.23809524,\n",
       "        5.71428571,  3.80952381,  5.23809524,  0.        ,  4.28571429,\n",
       "        0.95238095,  6.66666667,  4.28571429,  3.33333333,  3.33333333,\n",
       "        1.42857143,  2.38095238,  3.33333333,  7.61904762,  2.38095238,\n",
       "        3.33333333,  2.38095238,  3.33333333,  0.        ,  0.95238095,\n",
       "        0.47619048,  1.9047619 ,  4.28571429,  3.33333333,  0.95238095,\n",
       "        3.33333333,  1.9047619 ,  0.95238095,  1.9047619 ,  4.76190476,\n",
       "        3.33333333,  0.47619048,  5.71428571,  2.85714286,  1.42857143,\n",
       "        0.95238095,  3.80952381,  3.80952381,  0.        ,  4.76190476,\n",
       "        7.61904762,  2.38095238,  3.80952381,  4.76190476,  1.9047619 ,\n",
       "        2.38095238,  0.        ,  3.33333333,  1.42857143,  6.19047619,\n",
       "        3.80952381,  2.85714286,  1.9047619 ,  2.38095238,  6.66666667,\n",
       "        4.76190476,  2.38095238,  8.0952381 ,  0.47619048,  1.42857143,\n",
       "        1.42857143,  5.71428571,  3.33333333,  3.33333333,  4.76190476,\n",
       "        1.42857143,  1.9047619 ,  3.33333333,  0.        ,  0.95238095,\n",
       "        2.38095238,  1.9047619 ,  3.80952381,  6.66666667,  3.80952381,\n",
       "        7.14285714,  3.33333333,  4.76190476,  0.47619048,  8.57142857,\n",
       "        2.38095238,  1.42857143,  2.85714286,  3.80952381,  0.        ,\n",
       "        0.        ,  0.95238095,  3.33333333,  9.04761905,  4.76190476,\n",
       "        1.9047619 ,  0.95238095,  2.38095238,  0.95238095,  2.38095238,\n",
       "        2.38095238,  0.47619048,  3.80952381,  5.71428571,  2.85714286,\n",
       "        1.42857143,  2.85714286,  0.95238095,  4.76190476,  1.42857143,\n",
       "        4.28571429,  5.23809524,  3.80952381,  3.33333333,  0.47619048,\n",
       "        3.33333333,  5.23809524,  0.95238095,  2.85714286,  3.33333333,\n",
       "        0.        ,  0.95238095,  4.76190476,  2.85714286,  1.42857143,\n",
       "        3.80952381,  0.        ,  3.33333333,  3.80952381,  2.85714286,\n",
       "        2.38095238,  7.14285714,  2.85714286,  2.38095238,  2.38095238,\n",
       "        0.95238095,  0.95238095,  3.33333333,  2.85714286,  2.85714286,\n",
       "        4.76190476,  1.42857143,  1.42857143,  2.38095238,  6.66666667,\n",
       "        0.95238095,  3.33333333,  3.80952381,  2.85714286,  1.42857143,\n",
       "        2.85714286,  2.38095238,  0.95238095,  6.66666667,  1.42857143,\n",
       "        0.        ,  0.95238095,  1.9047619 ,  3.33333333,  1.42857143,\n",
       "        3.80952381,  1.9047619 ,  3.80952381,  0.95238095,  0.95238095,\n",
       "        2.38095238,  4.76190476,  3.33333333,  0.95238095,  0.95238095,\n",
       "        7.14285714,  6.19047619,  2.38095238,  2.38095238,  2.85714286,\n",
       "        0.        ,  5.23809524,  7.14285714,  3.33333333,  1.42857143,\n",
       "        0.95238095,  1.9047619 ,  1.9047619 ,  2.85714286,  1.42857143,\n",
       "        1.42857143,  0.47619048,  2.38095238,  1.9047619 ,  1.9047619 ,\n",
       "        2.85714286,  1.9047619 ,  1.9047619 ,  0.        ,  0.47619048,\n",
       "        2.38095238, 13.80952381,  4.76190476,  2.85714286,  0.47619048,\n",
       "        1.9047619 ,  0.95238095,  3.33333333,  0.47619048,  0.        ,\n",
       "        2.38095238,  2.38095238,  0.        ,  2.38095238,  2.85714286,\n",
       "        7.61904762,  5.71428571,  6.66666667,  4.76190476,  6.19047619,\n",
       "        0.95238095,  3.33333333,  6.19047619,  3.80952381,  0.        ,\n",
       "        2.38095238,  2.38095238,  0.        ,  1.42857143,  0.95238095,\n",
       "        0.        ,  4.28571429,  2.38095238,  2.85714286,  4.76190476,\n",
       "        2.85714286,  0.95238095,  1.9047619 ,  0.        ,  3.33333333,\n",
       "        2.85714286,  1.9047619 ,  3.80952381,  0.47619048,  3.80952381,\n",
       "        1.9047619 ,  1.9047619 ,  0.47619048,  6.19047619,  0.95238095,\n",
       "        2.85714286,  2.38095238,  2.38095238,  5.71428571,  0.95238095,\n",
       "        0.95238095,  5.23809524,  2.85714286,  0.95238095,  2.38095238,\n",
       "        5.23809524,  1.9047619 ,  1.9047619 ,  4.76190476,  0.        ,\n",
       "        5.23809524,  4.28571429,  5.23809524,  2.38095238,  4.76190476,\n",
       "        4.76190476,  4.28571429,  3.33333333,  7.14285714,  7.14285714,\n",
       "        4.76190476,  2.38095238,  0.47619048,  1.42857143,  1.9047619 ,\n",
       "        2.85714286,  1.9047619 ,  5.23809524,  0.47619048,  1.42857143,\n",
       "        4.76190476,  1.42857143,  0.47619048,  4.76190476,  3.33333333,\n",
       "        5.23809524,  3.33333333,  0.47619048,  0.        ,  1.9047619 ,\n",
       "        2.38095238,  3.80952381,  7.61904762,  0.47619048,  2.38095238,\n",
       "        2.85714286,  1.9047619 ,  0.47619048,  4.76190476,  2.38095238,\n",
       "        1.9047619 ,  2.38095238,  5.23809524,  0.47619048,  2.85714286,\n",
       "        8.0952381 ,  1.42857143,  1.9047619 ,  1.9047619 ,  2.85714286,\n",
       "        2.38095238,  2.38095238,  5.71428571,  1.9047619 ,  1.9047619 ,\n",
       "        0.95238095,  0.95238095,  1.9047619 ,  1.42857143,  2.38095238,\n",
       "        0.95238095,  3.80952381,  3.80952381,  7.14285714,  3.33333333,\n",
       "        1.9047619 ,  3.33333333,  5.23809524,  5.23809524,  1.42857143,\n",
       "        0.        ,  5.23809524,  2.38095238,  5.23809524,  1.42857143,\n",
       "        5.23809524,  0.95238095,  3.33333333,  1.9047619 ,  1.42857143,\n",
       "        1.9047619 ,  1.42857143,  8.57142857,  2.85714286,  1.42857143,\n",
       "        6.19047619,  2.38095238,  0.47619048,  5.71428571,  1.42857143,\n",
       "        6.19047619,  2.38095238,  7.61904762,  5.23809524,  1.42857143,\n",
       "        0.95238095,  4.76190476,  0.95238095,  0.47619048,  0.        ,\n",
       "        5.71428571,  0.95238095,  4.28571429,  1.9047619 ,  3.80952381,\n",
       "        2.38095238,  5.23809524,  0.47619048,  8.0952381 ,  3.80952381,\n",
       "        0.47619048,  4.76190476,  0.47619048,  1.42857143,  3.33333333,\n",
       "        7.61904762,  6.66666667,  4.28571429,  1.42857143,  0.95238095,\n",
       "        0.47619048,  1.9047619 ,  0.47619048,  0.95238095,  5.71428571,\n",
       "        0.47619048,  3.80952381,  1.9047619 ,  1.9047619 ,  3.33333333,\n",
       "        1.9047619 ,  5.23809524,  1.9047619 ,  0.47619048,  0.47619048,\n",
       "        4.76190476,  0.        ,  0.95238095,  4.76190476,  2.38095238])"
      ]
     },
     "execution_count": 14,
     "metadata": {},
     "output_type": "execute_result"
    }
   ],
   "source": [
    "num_repetitions = 1000\n",
    "num_guesses = 210\n",
    "\n",
    "simulated_test_statistics = make_array()\n",
    "\n",
    "for i in np.arange(num_repetitions):\n",
    "    simulation_proportion = sample_proportions(210, model_proportions)\n",
    "    one_test_statistic = test_statistic(expected_correct, simulation_proportion.item(0))\n",
    "    simulated_test_statistics = np.append(simulated_test_statistics, one_test_statistic)\n",
    "\n",
    "    \n",
    "    \n",
    "simulated_test_statistics"
   ]
  },
  {
   "cell_type": "markdown",
   "metadata": {},
   "source": [
    "Let's view the distribution of the simulated test statistics under the null, and visually compare how the observed test statistic lies against the rest. "
   ]
  },
  {
   "cell_type": "code",
   "execution_count": 15,
   "metadata": {},
   "outputs": [
    {
     "data": {
      "text/plain": [
       "<matplotlib.collections.PathCollection at 0x7fb48d767080>"
      ]
     },
     "execution_count": 15,
     "metadata": {},
     "output_type": "execute_result"
    },
    {
     "data": {
      "image/png": "[encoded data removed]",
      "text/plain": [
       "<Figure size 432x288 with 1 Axes>"
      ]
     },
     "metadata": {},
     "output_type": "display_data"
    }
   ],
   "source": [
    "t = Table().with_column('Simulated Test Statistics', simulated_test_statistics)\n",
    "t.hist()\n",
    "plt.scatter(observed_test_statistic, 0, color='red', s=30)"
   ]
  },
  {
   "cell_type": "markdown",
   "metadata": {},
   "source": [
    "We can make a visual argument as to whether or not we believe the observed test statistic is likely to occur under the null, or we can use the definition of p-values to help us make a more formal argument. \n",
    "\n",
    "**Question 8:** Assume `p_value` to the integer corresponding to the correct definition of what a p-value really is. \n",
    "\n",
    "1. The chance, under the null hypothesis, that the test statistic is equal to the value that was observed\n",
    "2. The chance, under the null hypothesis, that the test statistic is equal to the value that was observed or is even further in the direction of the alternative\n",
    "3. The chance, under the alternative hypothesis, that the test statistic is equal to the value that was observed or is even further in the direction of the null \n",
    "4. The number of times, under the null hypothesis, that the test statistic is equal to the value that was observed or is even further in the direction of the alternative"
   ]
  },
  {
   "cell_type": "code",
   "execution_count": null,
   "metadata": {},
   "outputs": [],
   "source": [
    "p_value = 2\n",
    "p_value"
   ]
  },
  {
   "cell_type": "markdown",
   "metadata": {},
   "source": [
    "**Question 9:** Using the definition above, calculate the p-value of Emily's observed value in this experiment. \n",
    "\n",
    "*Hint:* If our test statistic is further in the direction of the alternative, will larger value or a smaller value? \n",
    "\n",
    "*Hint:* [This section](https://www.inferentialthinking.com/chapters/11/3/decisions-and-uncertainty) of the textbook contains an example of calculating an empirical p-value."
   ]
  },
  {
   "cell_type": "code",
   "execution_count": 18,
   "metadata": {},
   "outputs": [
    {
     "data": {
      "text/plain": [
       "0.086"
      ]
     },
     "execution_count": 18,
     "metadata": {},
     "output_type": "execute_result"
    }
   ],
   "source": [
    "emily_p_val = np.count_nonzero(simulated_test_statistics >= observed_test_statistic) / len(simulated_test_statistics)\n",
    "emily_p_val"
   ]
  },
  {
   "cell_type": "markdown",
   "metadata": {},
   "source": [
    "If our p-value is less than or equal to .05, then this is in favor of our alternative and we reject the null hypothesis. Otherwise, we do not have enough evidence against our null hypothesis. Note that this does **not** say we side in favor with the null hypothesis and accept it, but rather, that we just fail to reject it. \n",
    "\n",
    "This should help you make your own conclusions about Emily Rosa's experiment. \n",
    "\n",
    "Therapeutic touch fell out of use after this experiment, which was eventually accepted into one of the premier medical journals. TT practitioners hit back and accused Emily and her family of tampering with the results, while some claimed that Emily's bad spiritual mood towards therapeutic touch made it difficult to read her HEF. Whatever it may be, Emily's experiment is a classic example about how anyone, with the right resources, can test anything they want!\n",
    "\n",
    "Think to yourself and be prepared to talk with your lab assistant and TA about the following questions as you get checked off: \n",
    "\n",
    "1. Do we reject the null hypothesis, or fail to reject it? \n",
    "2. What does this mean in terms of Emily's experiment? Do the TT practitioners' answers follow an even chance model or is there something else at play? "
   ]
  }
 ],
 "metadata": {
  "kernelspec": {
   "display_name": "Python 3",
   "language": "python",
   "name": "python3"
  },
  "language_info": {
   "codemirror_mode": {
    "name": "ipython",
    "version": 3
   },
   "file_extension": ".py",
   "mimetype": "text/x-python",
   "name": "python",
   "nbconvert_exporter": "python",
   "pygments_lexer": "ipython3",
   "version": "3.7.2"
  }
 },
 "nbformat": 4,
 "nbformat_minor": 2
}
