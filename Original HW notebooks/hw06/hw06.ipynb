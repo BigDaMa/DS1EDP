{
 "cells": [
  {
   "cell_type": "markdown",
   "metadata": {},
   "source": [
    "."
   ]
  },
  {
   "cell_type": "markdown",
   "metadata": {
    "deletable": false,
    "editable": false,
    "nbgrader": {
     "checksum": "c8723f89da44e3322b39a7f5dfaca0bc",
     "grade": false,
     "grade_id": "cell-18fcd84edc570f5c",
     "locked": true,
     "schema_version": 1,
     "solution": false
    }
   },
   "source": [
    "# Homework 6: Confidence Intervals and Linear Regression"
   ]
  },
  {
   "cell_type": "markdown",
   "metadata": {
    "deletable": false,
    "editable": false,
    "nbgrader": {
     "checksum": "93153b3c5e3998069bf40bcc98b15171",
     "grade": false,
     "grade_id": "cell-a8867b1ca466fbec",
     "locked": true,
     "schema_version": 1,
     "solution": false
    }
   },
   "source": [
    "Please complete this notebook by filling in the cells provided.   \n",
    "\n",
    "Throughout this homework and all future ones, please be sure to not re-assign variables throughout the notebook! For example, if you use `max_temperature` in your answer to one question, do not reassign it later on. Otherwise, you will fail tests that you thought you were passing previously!\n",
    "\n",
    "Directly sharing answers is not okay, but discussing problems with the course staff or with other students is encouraged. \n",
    "\n",
    "You should start early so that you have time to get help if you're stuck.\n",
    "\n",
    "Each of the questions has 5 points except the first two ones that have 10 points.\n",
    "\n",
    "We provide **no validation** test anymore. Be careful in reading the questions to provide exactly the correct answers.\n",
    "\n",
    "**Deadline:**\n",
    "\n",
    "This assignment is due Sunday, June 30th at 23:59."
   ]
  },
  {
   "cell_type": "markdown",
   "metadata": {
    "deletable": false,
    "editable": false,
    "nbgrader": {
     "checksum": "4aa6e3ae06ab4cd5a2206e0daa1e0300",
     "grade": false,
     "grade_id": "cell-064f14dc44414610",
     "locked": true,
     "schema_version": 1,
     "solution": false
    }
   },
   "source": [
    "**Reading**: \n",
    "* [Estimation](https://www.inferentialthinking.com/chapters/13/estimation.html)\n",
    "* [Prediction](https://www.inferentialthinking.com/chapters/15/prediction.html)"
   ]
  },
  {
   "cell_type": "code",
   "execution_count": null,
   "metadata": {},
   "outputs": [],
   "source": [
    "# Don't change this cell; just run it. \n",
    "\n",
    "import numpy as np\n",
    "from datascience import *\n",
    "\n",
    "# These lines do some fancy plotting magic.\n",
    "import matplotlib\n",
    "%matplotlib inline\n",
    "import matplotlib.pyplot as plt\n",
    "plt.style.use('fivethirtyeight')\n",
    "import warnings\n",
    "warnings.simplefilter('ignore', FutureWarning)"
   ]
  },
  {
   "cell_type": "markdown",
   "metadata": {
    "deletable": false,
    "editable": false,
    "nbgrader": {
     "checksum": "80f18092d2a1518726e8f7cfbe0e6e61",
     "grade": false,
     "grade_id": "cell-5e69f7a2f8906f49",
     "locked": true,
     "schema_version": 1,
     "solution": false
    }
   },
   "source": [
    "## 1. Plot the Vote\n"
   ]
  },
  {
   "cell_type": "markdown",
   "metadata": {
    "deletable": false,
    "editable": false,
    "nbgrader": {
     "checksum": "3946e6c289e390e6ca359bb38fcf610d",
     "grade": false,
     "grade_id": "cell-f152e98ff38c0f07",
     "locked": true,
     "schema_version": 1,
     "solution": false
    }
   },
   "source": [
    "Four candidates are running for President of Dataland. A polling company surveys 1000 people selected uniformly at random from among voters in Dataland, and it asks each one who they are planning on voting for. After compiling the results, the polling company releases the following proportions from their sample:\n",
    "\n",
    "|Candidate  | Proportion|\n",
    "|:------------:|:------------:|\n",
    "|Candidate C | 0.47 |\n",
    "|Candidate T | 0.38 |\n",
    "|Candidate J | 0.08 |\n",
    "|Candidate S | 0.03 |\n",
    "|Undecided   | 0.04 |\n",
    "\n",
    "These proportions represent a uniform random sample of the population of Dataland. We will attempt to estimate the corresponding *population parameters*, or the proportion of the votes that each candidate received from the entire population.  We will use confidence intervals to compute a range of values that reflects the uncertainty of our estimate.\n",
    "\n",
    "The table `votes` contains the results of the survey. Candidates are represented by their initials. Undecided voters are denoted by `U`."
   ]
  },
  {
   "cell_type": "code",
   "execution_count": null,
   "metadata": {},
   "outputs": [],
   "source": [
    "votes = Table().with_column('vote', np.array(['C']*470 + ['T']*380 + ['J']*80 + ['S']*30 + ['U']*40))\n",
    "num_votes = votes.num_rows\n",
    "votes.sample()"
   ]
  },
  {
   "cell_type": "markdown",
   "metadata": {
    "deletable": false,
    "editable": false,
    "nbgrader": {
     "checksum": "92255e25a00c3c85b5fdbab49486e353",
     "grade": false,
     "grade_id": "cell-0d3ae30c645e49bc",
     "locked": true,
     "schema_version": 1,
     "solution": false
    }
   },
   "source": [
    "**Question 1.** Below, complete the given  code that will use bootstrapped samples from `votes` to compute estimates of the true proportion of voters who are planning on voting for **Candidate C**."
   ]
  },
  {
   "cell_type": "code",
   "execution_count": null,
   "metadata": {
    "deletable": false,
    "for_assignment_type": "student",
    "manual_problem_id": "election_1"
   },
   "outputs": [],
   "source": [
    "def proportions_in_resamples():\n",
    "    prop_c = make_array()\n",
    "    for i in np.arange(5000):\n",
    "        bootstrap = ...\n",
    "        single_proportion = np.count_nonzero(...) / ...\n",
    "        prop_c = np.append(prop_c, single_proportion)\n",
    "    return prop_c"
   ]
  },
  {
   "cell_type": "code",
   "execution_count": null,
   "metadata": {
    "deletable": false,
    "editable": false,
    "nbgrader": {
     "checksum": "e3bdd73c3bdaf6c4943f2eefde17a745",
     "grade": true,
     "grade_id": "cell-b52c0d420fab6185",
     "locked": true,
     "points": 10,
     "schema_version": 1,
     "solution": false
    }
   },
   "outputs": [],
   "source": []
  },
  {
   "cell_type": "markdown",
   "metadata": {
    "deletable": false,
    "editable": false,
    "nbgrader": {
     "checksum": "dc107aba4e17aaba3ac93eb598b94ee2",
     "grade": false,
     "grade_id": "cell-7673790732012555",
     "locked": true,
     "schema_version": 1,
     "solution": false
    }
   },
   "source": [
    "In the following cell, we run the function you just defined, `proportions_in_resamples`, and create a histogram of the calculated statistic for the 5,000 bootstraps."
   ]
  },
  {
   "cell_type": "code",
   "execution_count": null,
   "metadata": {},
   "outputs": [],
   "source": [
    "sampled_proportions = proportions_in_resamples()\n",
    "Table().with_column('Estimated Proportion', sampled_proportions).hist(bins=np.arange(0.2,0.6,0.01))"
   ]
  },
  {
   "cell_type": "markdown",
   "metadata": {
    "deletable": false,
    "editable": false,
    "nbgrader": {
     "checksum": "7c4fecd7e48e6c6d274f48df11f12380",
     "grade": false,
     "grade_id": "cell-ba28176ef9d46cfa",
     "locked": true,
     "schema_version": 1,
     "solution": false
    }
   },
   "source": [
    "**Question 2.** Using the array `sampled_proportions`, find the values that bound the middle 95% of the values in the data. (Compute the lower and upper ends of the interval, named `c_lower_bound` and `c_upper_bound`, respectively.)"
   ]
  },
  {
   "cell_type": "code",
   "execution_count": null,
   "metadata": {
    "deletable": false
   },
   "outputs": [],
   "source": [
    "c_lower_bound = ...\n",
    "c_upper_bound = ...\n",
    "print(\"Bootstrapped 95% confidence interval for the proportion of C voters in the population: [{:f}, {:f}]\".format(c_lower_bound, c_upper_bound))"
   ]
  },
  {
   "cell_type": "code",
   "execution_count": null,
   "metadata": {
    "deletable": false,
    "editable": false,
    "nbgrader": {
     "checksum": "8f170ed37bba4a4b0a4a9d047047847f",
     "grade": true,
     "grade_id": "cell-d6f4cdef61662a92",
     "locked": true,
     "points": 10,
     "schema_version": 1,
     "solution": false
    }
   },
   "outputs": [],
   "source": []
  },
  {
   "cell_type": "markdown",
   "metadata": {
    "deletable": false,
    "editable": false,
    "nbgrader": {
     "checksum": "31ed48513ab192f8c82eac17937d06b8",
     "grade": false,
     "grade_id": "cell-d5e46d58ed17ecbf",
     "locked": true,
     "schema_version": 1,
     "solution": false
    }
   },
   "source": [
    "**Question 3.** The survey results seem to indicate that Candidate C is beating Candidate T among voters. We would like to use confidence intervals to determine a range of likely values for her true *lead*. Candidate C's lead over Candidate T is:\n",
    "\n",
    "$$\\text{Candidate C's proportion of the vote} - \\text{Candidate T's proportion of the vote}.$$\n",
    "\n",
    "Using the function `proportions_in_resamples` above as a model, use the bootstrap to compute an approximate distribution for Candidate C's lead over Candidate T. Plot a histogram of the the resulting samples."
   ]
  },
  {
   "cell_type": "code",
   "execution_count": null,
   "metadata": {
    "deletable": false,
    "for_assignment_type": "student",
    "manual_problem_id": "election_4"
   },
   "outputs": [],
   "source": [
    "bins = np.arange(-0.2,0.2,0.01)\n",
    "\n",
    "def leads_in_resamples():\n",
    "    leads = make_array()\n",
    "    ...\n",
    "    return leads\n",
    "\n",
    "sampled_leads = leads_in_resamples()\n",
    "..."
   ]
  },
  {
   "cell_type": "code",
   "execution_count": null,
   "metadata": {
    "deletable": false
   },
   "outputs": [],
   "source": [
    "diff_lower_bound = ...\n",
    "diff_upper_bound = ...\n",
    "print(\"Bootstrapped 95% confidence interval for Candidate C's true lead over Candidate T: [{:f}, {:f}]\".format(diff_lower_bound, diff_upper_bound))"
   ]
  },
  {
   "cell_type": "code",
   "execution_count": null,
   "metadata": {
    "deletable": false,
    "editable": false,
    "nbgrader": {
     "checksum": "f0ab112940df713e2d905fa8badf360d",
     "grade": true,
     "grade_id": "cell-1748bae250232702",
     "locked": true,
     "points": 5,
     "schema_version": 1,
     "solution": false
    }
   },
   "outputs": [],
   "source": []
  },
  {
   "cell_type": "markdown",
   "metadata": {
    "deletable": false,
    "editable": false,
    "nbgrader": {
     "checksum": "58210769cdecfc4918bc14ae606f06ec",
     "grade": false,
     "grade_id": "cell-88aed3867e233742",
     "locked": true,
     "schema_version": 1,
     "solution": false
    }
   },
   "source": [
    "## 2. Interpreting Confidence Intervals\n"
   ]
  },
  {
   "cell_type": "markdown",
   "metadata": {
    "deletable": false,
    "editable": false,
    "nbgrader": {
     "checksum": "f9ba96ae017d69a737f660fc23d9f450",
     "grade": false,
     "grade_id": "cell-c38189e412d111f9",
     "locked": true,
     "schema_version": 1,
     "solution": false
    }
   },
   "source": [
    "The staff computed the following 95% confidence interval for the proportion of Candidate C voters: \n",
    "\n",
    "$$[.439, .5]$$\n",
    "\n",
    "(Your answer may have been different; that doesn't mean it was wrong!)"
   ]
  },
  {
   "cell_type": "markdown",
   "metadata": {
    "deletable": false,
    "editable": false,
    "nbgrader": {
     "checksum": "d57e7528ec49e5fa92d42709a04ac19f",
     "grade": false,
     "grade_id": "cell-0c10528f6c86ca7b",
     "locked": true,
     "schema_version": 1,
     "solution": false
    }
   },
   "source": [
    "#### Question 1\n",
    "Which of the following statements is true. Assign the correct number (`1` or `2`) to the variable `correct_option`.\n",
    "1. We can say that 95% of the population lies in the range $[.439, .5]$.\n",
    "2. We can say that there is a 95% probability that the interval [.439, .5] contains the true proportion of the population who is voting for Candidate C."
   ]
  },
  {
   "cell_type": "code",
   "execution_count": null,
   "metadata": {},
   "outputs": [],
   "source": [
    "correct_option = ..."
   ]
  },
  {
   "cell_type": "code",
   "execution_count": null,
   "metadata": {
    "deletable": false,
    "editable": false,
    "nbgrader": {
     "checksum": "bf48c476a6f4b9a8e55d42d0fd822bdc",
     "grade": true,
     "grade_id": "cell-e8aff6dffd5b6201",
     "locked": true,
     "points": 5,
     "schema_version": 1,
     "solution": false
    }
   },
   "outputs": [],
   "source": []
  },
  {
   "cell_type": "markdown",
   "metadata": {
    "deletable": false,
    "editable": false,
    "nbgrader": {
     "checksum": "b38fd889fd2ef45427bda8f8bb1a5c44",
     "grade": false,
     "grade_id": "cell-b5b80a7cb4a46548",
     "locked": true,
     "schema_version": 1,
     "solution": false
    }
   },
   "source": [
    "#### Question 2\n",
    "Suppose we produced 10,000 new samples (each one a uniform random sample of 1,000 voters) and created a 95% confidence interval from each one. Roughly how many of those 10,000 intervals do you expect will actually contain the true proportion of the population?\n",
    "\n",
    "Assign your answer to `true_proportion_intervals`."
   ]
  },
  {
   "cell_type": "code",
   "execution_count": null,
   "metadata": {
    "deletable": false
   },
   "outputs": [],
   "source": [
    "true_proportion_intervals = ..."
   ]
  },
  {
   "cell_type": "code",
   "execution_count": null,
   "metadata": {
    "deletable": false,
    "editable": false,
    "nbgrader": {
     "checksum": "0325505666965d39986e185b954064da",
     "grade": true,
     "grade_id": "cell-405ad7711a8ab6fd",
     "locked": true,
     "points": 5,
     "schema_version": 1,
     "solution": false
    }
   },
   "outputs": [],
   "source": []
  },
  {
   "cell_type": "markdown",
   "metadata": {
    "deletable": false,
    "editable": false,
    "nbgrader": {
     "checksum": "aa44c9b853b829b4101780eda100d453",
     "grade": false,
     "grade_id": "cell-31209701808929c9",
     "locked": true,
     "schema_version": 1,
     "solution": false
    }
   },
   "source": [
    "#### Question 4\n",
    "\n",
    "The staff also created 80%, 90%, and 99% confidence intervals from one sample, but we forgot to label which confidence interval represented which percentages! Assign each interval range variable to the correct confidence interval variable."
   ]
  },
  {
   "cell_type": "code",
   "execution_count": null,
   "metadata": {},
   "outputs": [],
   "source": [
    "interval_1 = [.444, .495]\n",
    "interval_2 = [.450, .490]\n",
    "interval_3 = [.430, .511]\n",
    "\n",
    "confidence_interval_80 = ...\n",
    "confidence_interval_90 = ...\n",
    "confidence_interval_99 = ..."
   ]
  },
  {
   "cell_type": "code",
   "execution_count": null,
   "metadata": {
    "deletable": false,
    "editable": false,
    "nbgrader": {
     "checksum": "ba2bec701d44d30a15eb60cdf1409027",
     "grade": true,
     "grade_id": "cell-9af5edb5c6ae68f8",
     "locked": true,
     "points": 5,
     "schema_version": 1,
     "solution": false
    }
   },
   "outputs": [],
   "source": []
  },
  {
   "cell_type": "markdown",
   "metadata": {
    "deletable": false,
    "editable": false,
    "nbgrader": {
     "checksum": "a4b3df4f39af5901d813e1e4cfb8a0e7",
     "grade": false,
     "grade_id": "cell-24841976a42c02b7",
     "locked": true,
     "schema_version": 1,
     "solution": false
    }
   },
   "source": [
    "Recall the second bootstrap confidence interval you created, estimating Candidate C's lead over Candidate T. Among\n",
    "voters in the sample, her lead was .09. The staff's 95% confidence interval for her true lead (in the population of all voters) was\n",
    "\n",
    "$$[.032,.15].$$\n",
    "\n",
    "Suppose we are interested in testing a simple yes-or-no question:\n",
    "\n",
    "> \"Are the candidates tied?\"\n",
    "\n",
    "Our null hypothesis is that the proportions are equal, or, equivalently, that Candidate C's lead is exactly 0. Our alternative hypothesis is that her lead is not equal to 0.  In the questions below, don't compute any confidence interval yourself - use only the staff's 95% confidence interval.\n",
    "\n",
    "\n",
    "**Question 5** \n",
    "\n",
    "Say we use a 5% P-value cutoff.  Do we reject the null, fail to reject the null, or are we unable to tell using our staff confidence interval?\n",
    "\n",
    "Assign `candidates_tied` to the number corresponding to the correct answer.\n",
    "\n",
    "1. Reject the null\n",
    "2. Fail to reject the null\n",
    "3. Unable to tell using our staff confidence interval\n",
    "\n",
    "*Hint:* If you're confused, take a look at [this chapter](https://www.inferentialthinking.com/chapters/13/4/using-confidence-intervals.html) of the textbook."
   ]
  },
  {
   "cell_type": "code",
   "execution_count": null,
   "metadata": {
    "deletable": false
   },
   "outputs": [],
   "source": [
    "candidates_tied = ..."
   ]
  },
  {
   "cell_type": "code",
   "execution_count": null,
   "metadata": {
    "deletable": false,
    "editable": false,
    "nbgrader": {
     "checksum": "545b2affc2752407f6078b7ede3c840d",
     "grade": true,
     "grade_id": "cell-3a4fe5053aef10e9",
     "locked": true,
     "points": 5,
     "schema_version": 1,
     "solution": false
    }
   },
   "outputs": [],
   "source": []
  },
  {
   "cell_type": "markdown",
   "metadata": {
    "deletable": false,
    "editable": false,
    "nbgrader": {
     "checksum": "3f6f1a4895ce5516025232c1b8bbe3fd",
     "grade": false,
     "grade_id": "cell-eadc6722849627eb",
     "locked": true,
     "schema_version": 1,
     "solution": false
    }
   },
   "source": [
    "#### Question 6\n",
    "What if, instead, we use a P-value cutoff of 1%? Do we reject the null, fail to reject the null, or are we unable to tell using our staff confidence interval?\n",
    "\n",
    "Assign `cutoff_one_percent` to the number corresponding to the correct answer.\n",
    "\n",
    "1. Reject the null\n",
    "2. Fail to reject the null\n",
    "3. Unable to tell using our staff confidence interval"
   ]
  },
  {
   "cell_type": "code",
   "execution_count": null,
   "metadata": {
    "deletable": false
   },
   "outputs": [],
   "source": [
    "cutoff_one_percent = ..."
   ]
  },
  {
   "cell_type": "code",
   "execution_count": null,
   "metadata": {
    "deletable": false,
    "editable": false,
    "nbgrader": {
     "checksum": "693d36a20bbfca0cc5ea409db9eab1e9",
     "grade": true,
     "grade_id": "cell-7aa6e605a076f65a",
     "locked": true,
     "points": 5,
     "schema_version": 1,
     "solution": false
    }
   },
   "outputs": [],
   "source": []
  },
  {
   "cell_type": "markdown",
   "metadata": {
    "deletable": false,
    "editable": false,
    "nbgrader": {
     "checksum": "70fea0661b366cc2783aa88479438625",
     "grade": false,
     "grade_id": "cell-69b96fd81af2debe",
     "locked": true,
     "schema_version": 1,
     "solution": false
    }
   },
   "source": [
    "#### Question 7\n",
    "What if we use a P-value cutoff of 10%? Do we reject, fail to reject, or are we unable to tell using our confidence interval?\n",
    "\n",
    "Assign `cutoff_ten_percent` to the number corresponding to the correct answer.\n",
    "\n",
    "1. Reject the null\n",
    "2. Fail to reject the null\n",
    "3. Unable to tell using our staff confidence interval"
   ]
  },
  {
   "cell_type": "code",
   "execution_count": null,
   "metadata": {
    "deletable": false
   },
   "outputs": [],
   "source": [
    "cutoff_ten_percent = ..."
   ]
  },
  {
   "cell_type": "code",
   "execution_count": null,
   "metadata": {
    "deletable": false,
    "editable": false,
    "nbgrader": {
     "checksum": "776c0a450f96eccca9c0d9b4d550d71b",
     "grade": true,
     "grade_id": "cell-491d01adbae08fb0",
     "locked": true,
     "points": 5,
     "schema_version": 1,
     "solution": false
    }
   },
   "outputs": [],
   "source": []
  },
  {
   "cell_type": "markdown",
   "metadata": {
    "deletable": false,
    "editable": false,
    "nbgrader": {
     "checksum": "edfb53dccbb4404f94fce51056131b22",
     "grade": false,
     "grade_id": "cell-8fd5d9ec3dc8863c",
     "locked": true,
     "schema_version": 1,
     "solution": false
    }
   },
   "source": [
    "## 3. Triple Jump Distances vs. Vertical Jump Heights\n"
   ]
  },
  {
   "cell_type": "markdown",
   "metadata": {
    "deletable": false,
    "editable": false,
    "nbgrader": {
     "checksum": "7a29e904d40d19ca706ccf22c3b2a4cc",
     "grade": false,
     "grade_id": "cell-c4f4c15b2aa84244",
     "locked": true,
     "schema_version": 1,
     "solution": false
    }
   },
   "source": [
    "Does skill in one sport imply skill in a related sport?  The answer might be different for different activities.  Let us find out whether it's true for the [triple jump](https://en.wikipedia.org/wiki/Triple_jump) (a horizontal jump similar to a long jump) and the vertical jump.  Since we're learning about linear regression, we will look specifically for a *linear* association between skill level in the two sports.\n",
    "\n",
    "The following data was collected by observing 40 collegiate level soccer players.  Each athlete's distances in both jump activities were measured in centimeters. Run the cell below to load the data."
   ]
  },
  {
   "cell_type": "code",
   "execution_count": null,
   "metadata": {},
   "outputs": [],
   "source": [
    "# Run this cell to load the data\n",
    "jumps = Table.read_table('triple_vertical.csv')\n",
    "jumps"
   ]
  },
  {
   "cell_type": "markdown",
   "metadata": {
    "deletable": false,
    "editable": false,
    "nbgrader": {
     "checksum": "de7c19cbc1f620d7fd1a9c496fba7728",
     "grade": false,
     "grade_id": "cell-8cee6e079d15dd84",
     "locked": true,
     "schema_version": 1,
     "solution": false
    }
   },
   "source": [
    "#### Question 1\n",
    "Before running a regression, it's important to see what the data look like, because our eyes are good at picking out unusual patterns in data.  Draw a scatter plot with the triple jump distances on the horizontal axis and the vertical jump heights on vertical axis **that also shows the regression line**. Do you see any linear correlation? Assign `True` or `False` to the `linear_correlation` variable. \n",
    "\n",
    "See the documentation on `scatter` [here](http://data8.org/datascience/_autosummary/datascience.tables.Table.scatter.html#datascience.tables.Table.scatter) for instructions on how to have Python draw the regression line automatically."
   ]
  },
  {
   "cell_type": "code",
   "execution_count": null,
   "metadata": {},
   "outputs": [],
   "source": [
    "...\n",
    "linear_correlation = ..."
   ]
  },
  {
   "cell_type": "code",
   "execution_count": null,
   "metadata": {
    "deletable": false,
    "editable": false,
    "nbgrader": {
     "checksum": "768fbb761671b2e9111c37285d1c1c9f",
     "grade": true,
     "grade_id": "cell-10401207d9bd0afc",
     "locked": true,
     "points": 5,
     "schema_version": 1,
     "solution": false
    }
   },
   "outputs": [],
   "source": []
  },
  {
   "cell_type": "markdown",
   "metadata": {
    "deletable": false,
    "editable": false,
    "nbgrader": {
     "checksum": "3822616ab621d77849c200aa6500788f",
     "grade": false,
     "grade_id": "cell-c8c611e4b1168b8b",
     "locked": true,
     "schema_version": 1,
     "solution": false
    }
   },
   "source": [
    "#### Question 2 \n",
    "Does the correlation coefficient `r` look closest to 0, 0.5, or -0.5? Assign `0`, `0.5` or `-0.5` to the varaible `r_estimate`. \n",
    "\n",
    "**Hint:** Make sure to assign the variable with a float value."
   ]
  },
  {
   "cell_type": "code",
   "execution_count": null,
   "metadata": {},
   "outputs": [],
   "source": [
    "r_estimate = ...\n",
    "r_estimate"
   ]
  },
  {
   "cell_type": "code",
   "execution_count": null,
   "metadata": {
    "deletable": false,
    "editable": false,
    "nbgrader": {
     "checksum": "838da8db0c987d48f8fe6ab8849ad00a",
     "grade": true,
     "grade_id": "cell-80c44669801b7252",
     "locked": true,
     "points": 5,
     "schema_version": 1,
     "solution": false
    }
   },
   "outputs": [],
   "source": []
  },
  {
   "cell_type": "markdown",
   "metadata": {
    "deletable": false,
    "editable": false,
    "nbgrader": {
     "checksum": "1f6da58a96eee14083f3c83378a37639",
     "grade": false,
     "grade_id": "cell-e0a8610eebdc841a",
     "locked": true,
     "schema_version": 1,
     "solution": false
    }
   },
   "source": [
    "#### Question 3\n",
    "Create a function called `regression_parameters`. It takes as its argument a table with two columns.  The first column is the x-axis, and the second column is the y-axis.  It should compute the correlation between the two columns, then compute the slope and intercept of the regression line that predicts the second column from the first, in original units (centimeters).  It should return an array with three elements: the correlation coefficient of the two columns, the slope of the regression line, and the intercept of the regression line."
   ]
  },
  {
   "cell_type": "code",
   "execution_count": null,
   "metadata": {},
   "outputs": [],
   "source": [
    "def regression_parameters(t):\n",
    "    r = ...\n",
    "    slope = ...\n",
    "    intercept = ...\n",
    "    return make_array(r, slope, intercept)\n",
    "\n",
    "# When your function is finished, the next lines should\n",
    "# compute the regression line predicting vertical jump \n",
    "# distances from triple jump distances. Set parameters\n",
    "# to be the result of calling regression_parameters appropriately.\n",
    "parameters = ...\n",
    "print('r:', parameters.item(0), '; slope:', parameters.item(1), '; intercept:', parameters.item(2))"
   ]
  },
  {
   "cell_type": "code",
   "execution_count": null,
   "metadata": {
    "deletable": false,
    "editable": false,
    "nbgrader": {
     "checksum": "762aee61fbe194f84f76d03a29a8b06b",
     "grade": true,
     "grade_id": "cell-bdffd7fa04488cb8",
     "locked": true,
     "points": 5,
     "schema_version": 1,
     "solution": false
    }
   },
   "outputs": [],
   "source": []
  },
  {
   "cell_type": "markdown",
   "metadata": {
    "deletable": false,
    "editable": false,
    "nbgrader": {
     "checksum": "365b8edb33e2397712df9f0085152769",
     "grade": false,
     "grade_id": "cell-380eb38e3978deb9",
     "locked": true,
     "schema_version": 1,
     "solution": false
    }
   },
   "source": [
    "#### Question 4\n",
    "Let's use `parameters` to predict what certain athletes' vertical jump heights would be given their triple jump distances.\n",
    "\n",
    "The world record for the triple jump distance is 18.29 *meters* by Johnathan Edwards. What's our prediction for what Edwards' vertical jump would be?\n",
    "\n",
    "**Hint:** Make sure to convert from meters to centimeters!"
   ]
  },
  {
   "cell_type": "code",
   "execution_count": null,
   "metadata": {},
   "outputs": [],
   "source": [
    "triple_record_vert_est = ...\n",
    "print(\"Predicted vertical jump distance: {:f} centimeters\".format(triple_record_vert_est))"
   ]
  },
  {
   "cell_type": "code",
   "execution_count": null,
   "metadata": {
    "deletable": false,
    "editable": false,
    "nbgrader": {
     "checksum": "c2ede01cce86f003f69bba7f626d043e",
     "grade": true,
     "grade_id": "cell-2f223ca88f3a8c89",
     "locked": true,
     "points": 5,
     "schema_version": 1,
     "solution": false
    }
   },
   "outputs": [],
   "source": []
  },
  {
   "cell_type": "markdown",
   "metadata": {
    "deletable": false,
    "editable": false,
    "nbgrader": {
     "checksum": "0234a28508b531adf77403724850fa53",
     "grade": false,
     "grade_id": "cell-e9738a485fbb7b1c",
     "locked": true,
     "schema_version": 1,
     "solution": false
    }
   },
   "source": [
    "#### Question 5\n",
    "Do you expect this estimate to be accurate within a few centimeters? Assign the variable `estimation_accurate` with a boolean value of either `True` or `False`.\n",
    "\n",
    "*Hint:* Compare Edwards' triple jump distance to the triple jump distances in `jumps`. Is it relatively similar to the rest of the data? "
   ]
  },
  {
   "cell_type": "code",
   "execution_count": null,
   "metadata": {},
   "outputs": [],
   "source": [
    "estimation_accurate = ...\n",
    "estimation_accurate"
   ]
  },
  {
   "cell_type": "code",
   "execution_count": null,
   "metadata": {
    "deletable": false,
    "editable": false,
    "nbgrader": {
     "checksum": "4e2dc58bd92416881e033a03b03ac3b8",
     "grade": true,
     "grade_id": "cell-0a9cd8f9df50a1f0",
     "locked": true,
     "points": 5,
     "schema_version": 1,
     "solution": false
    }
   },
   "outputs": [],
   "source": []
  },
  {
   "cell_type": "markdown",
   "metadata": {
    "deletable": false,
    "editable": false,
    "nbgrader": {
     "checksum": "87223c0007017214cec317cdae862dec",
     "grade": false,
     "grade_id": "cell-df0c5d499146533e",
     "locked": true,
     "schema_version": 1,
     "solution": false
    }
   },
   "source": [
    "## 4. Cryptocurrencies\n"
   ]
  },
  {
   "cell_type": "markdown",
   "metadata": {
    "deletable": false,
    "editable": false,
    "nbgrader": {
     "checksum": "4037a8324bbf627ddb2bfef43367ef82",
     "grade": false,
     "grade_id": "cell-517e06c0a18ecbef",
     "locked": true,
     "schema_version": 1,
     "solution": false
    }
   },
   "source": [
    "Imagine you're an investor in December 2017. Cryptocurrencies, online currencies backed by secure software, are becoming extremely valuable, and you want in on the action!\n",
    "\n",
    "The two most valuable cryptocurrencies are Bitcoin (BTC) and Ethereum (ETH). Each one has a dollar price attached to it at any given moment in time. For example, on December 1st, 2017, one BTC costs $\\$$10859.56 and one ETH costs $\\$$424.64. \n",
    "\n",
    "**You want to predict the price of ETH at some point in time based on the price of BTC.** Below, we [load](https://www.kaggle.com/jessevent/all-crypto-currencies/data) two tables called `btc` and `eth`. Each has 5 columns:\n",
    "* `date`, the date\n",
    "* `open`, the value of the currency at the beginning of the day\n",
    "* `close`, the value of the currency at the end of the day\n",
    "* `market`, the market cap or total dollar value invested in the currency\n",
    "* `day`, the number of days since the start of our data"
   ]
  },
  {
   "cell_type": "code",
   "execution_count": null,
   "metadata": {},
   "outputs": [],
   "source": [
    "btc = Table.read_table('btc.csv')\n",
    "btc"
   ]
  },
  {
   "cell_type": "code",
   "execution_count": null,
   "metadata": {},
   "outputs": [],
   "source": [
    "eth = Table.read_table('eth.csv')\n",
    "eth"
   ]
  },
  {
   "cell_type": "markdown",
   "metadata": {
    "deletable": false,
    "editable": false,
    "nbgrader": {
     "checksum": "db26fedc90e1f7785b9afc32e81114fe",
     "grade": false,
     "grade_id": "cell-343d97a5db434b89",
     "locked": true,
     "schema_version": 1,
     "solution": false
    }
   },
   "source": [
    "In the cell below, we plot the opening prices of BTC and ETH as a function of time."
   ]
  },
  {
   "cell_type": "code",
   "execution_count": null,
   "metadata": {},
   "outputs": [],
   "source": [
    "btc.plot(\"day\", \"open\")\n",
    "eth.plot(\"day\", \"open\")"
   ]
  },
  {
   "cell_type": "markdown",
   "metadata": {
    "deletable": false,
    "editable": false,
    "nbgrader": {
     "checksum": "9568c69862df6ee8895a80c32c7c7193",
     "grade": false,
     "grade_id": "cell-606bb5ae6e3f3516",
     "locked": true,
     "schema_version": 1,
     "solution": false
    }
   },
   "source": [
    "#### Question 1\n",
    "\n",
    "Calculate the correlation coefficient between the opening prices of BTC and ETH.\n",
    "\n",
    "*Hint:* It may be helpful to define and use the function `std_units`."
   ]
  },
  {
   "cell_type": "code",
   "execution_count": null,
   "metadata": {},
   "outputs": [],
   "source": [
    "def std_units(arr): \n",
    "    ...\n",
    "\n",
    "standard_btc = ...\n",
    "standard_eth = ...\n",
    "\n",
    "r = ...\n",
    "r"
   ]
  },
  {
   "cell_type": "code",
   "execution_count": null,
   "metadata": {
    "deletable": false,
    "editable": false,
    "nbgrader": {
     "checksum": "dee86a164c00248a1430b06db4df46d3",
     "grade": true,
     "grade_id": "cell-a4898cdd5e4f8052",
     "locked": true,
     "points": 5,
     "schema_version": 1,
     "solution": false
    }
   },
   "outputs": [],
   "source": []
  },
  {
   "cell_type": "markdown",
   "metadata": {
    "deletable": false,
    "editable": false,
    "nbgrader": {
     "checksum": "ea0eced9827f56560d4e5a5d581fed3e",
     "grade": false,
     "grade_id": "cell-2fd57217c8edcfd0",
     "locked": true,
     "schema_version": 1,
     "solution": false
    }
   },
   "source": [
    "#### Question 2\n",
    "Regardless of your conclusions above, write a function `eth_predictor` which takes an opening BTC price and predicts the price of ETH. Again, it will be helpful to use the function `regression_parameters` that you defined earlier in this homework.\n",
    "\n",
    "**Note:** Make sure that your `eth_predictor` is using linear regression."
   ]
  },
  {
   "cell_type": "code",
   "execution_count": null,
   "metadata": {},
   "outputs": [],
   "source": [
    "def eth_predictor(btc_price):\n",
    "    parameters = ...\n",
    "    slope = ...\n",
    "    intercept = ...\n",
    "    ..."
   ]
  },
  {
   "cell_type": "code",
   "execution_count": null,
   "metadata": {
    "deletable": false,
    "editable": false,
    "nbgrader": {
     "checksum": "488226daade62eed2a88e1c4ff8295b3",
     "grade": true,
     "grade_id": "cell-1e41f871799b82f6",
     "locked": true,
     "points": 5,
     "schema_version": 1,
     "solution": false
    }
   },
   "outputs": [],
   "source": []
  },
  {
   "cell_type": "markdown",
   "metadata": {
    "deletable": false,
    "editable": false,
    "nbgrader": {
     "checksum": "2fb128a1c018a016ea1816ce40c34b2e",
     "grade": false,
     "grade_id": "cell-74c694c359bee16e",
     "locked": true,
     "schema_version": 1,
     "solution": false
    }
   },
   "source": [
    "#### Question 3\n",
    "\n",
    "Now, using the `eth_predictor` you defined in the previous question, create a table `prices_with_predictions` that should have the columns `btc`, `eth` and `eth_prediction`. Then, make a scatter plot with BTC prices along the x-axis and both real and predicted ETH prices along the y-axis. The color of the dots for the real ETH prices should be different from the color for the predicted ETH prices.\n",
    "\n",
    "Hints:\n",
    "* An example of such a scatter plot is generated <a href= \"https://www.inferentialthinking.com/chapters/15/2/regression-line.html\n",
    "\"> here. </a>\n",
    "* Think about the table that must be produced and used to generate this scatter plot. What data should the columns represent? Based on the data that you need, how many columns should be present in this table? Also, what should each row represent? Constructing the table will be the main part of this question; once you have this table, generating the scatter plot should be straightforward as usual."
   ]
  },
  {
   "cell_type": "code",
   "execution_count": null,
   "metadata": {},
   "outputs": [],
   "source": [
    "prices_with_predictions = ..."
   ]
  },
  {
   "cell_type": "code",
   "execution_count": null,
   "metadata": {
    "deletable": false,
    "editable": false,
    "nbgrader": {
     "checksum": "f0aece126d3d9da732d821e23447f816",
     "grade": true,
     "grade_id": "cell-83f1520354b1e3bb",
     "locked": true,
     "points": 5,
     "schema_version": 1,
     "solution": false
    }
   },
   "outputs": [],
   "source": []
  },
  {
   "cell_type": "markdown",
   "metadata": {
    "deletable": false,
    "editable": false,
    "nbgrader": {
     "checksum": "4ec2b23fa412fd567c034e6a38e7ca17",
     "grade": false,
     "grade_id": "cell-aa589da3ab8a8b30",
     "locked": true,
     "schema_version": 1,
     "solution": false
    }
   },
   "source": [
    "#### Question 6\n",
    "\n",
    "Now suppose you want to go the other way: to predict a BTC  price given an ETH price. What would the regression parameters of this linear model be? How do they compare to the regression parameters from the model where you were predicting ETH price given a BTC price? Set `regression_changes` to an array of 3 elements, with each element corresponding to whether or not the corresponding item returned by `regression_parameters` changes when switching BTC and ETH as $x$ and $y$. For example, if r changes, the slope changes, but the intercept wouldn't change, the array would be `[True, True, False]`."
   ]
  },
  {
   "cell_type": "code",
   "execution_count": null,
   "metadata": {},
   "outputs": [],
   "source": [
    "regression_changes = ...\n",
    "regression_changes"
   ]
  },
  {
   "cell_type": "code",
   "execution_count": null,
   "metadata": {
    "deletable": false,
    "editable": false,
    "nbgrader": {
     "checksum": "a08cb80a2707f71ea742e4429d75de78",
     "grade": true,
     "grade_id": "cell-211e69a5d877b42f",
     "locked": true,
     "points": 5,
     "schema_version": 1,
     "solution": false
    }
   },
   "outputs": [],
   "source": []
  }
 ],
 "metadata": {
  "kernelspec": {
   "display_name": "Python 3",
   "language": "python",
   "name": "python3"
  },
  "language_info": {
   "codemirror_mode": {
    "name": "ipython",
    "version": 3
   },
   "file_extension": ".py",
   "mimetype": "text/x-python",
   "name": "python",
   "nbconvert_exporter": "python",
   "pygments_lexer": "ipython3",
   "version": "3.7.2"
  }
 },
 "nbformat": 4,
 "nbformat_minor": 1
}
