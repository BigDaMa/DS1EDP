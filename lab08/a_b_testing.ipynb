{
 "cells": [
  {
   "cell_type": "markdown",
   "metadata": {},
   "source": [
    "## A/B Testing\n",
    "\n",
    "We have seen several examples of assessing whether a single sample looks like random draws from a specified chance model. In all of these cases there was just one random sample, and we were trying to decide how it had been generated. \n",
    "\n",
    "But often, data scientists have to *compare two random samples* with each other. In modern data analytics, deciding whether two numerical samples come from the same underlying distribution is called **A/B testing**. The name refers to the labels of the two samples, A and B. In this lab, we will use A/B testing for one particular example."
   ]
  },
  {
   "cell_type": "code",
   "execution_count": null,
   "metadata": {},
   "outputs": [],
   "source": [
    "# These lines import the Numpy and Datascience modules.\n",
    "import numpy as np\n",
    "from datascience import *\n",
    "\n",
    "# These lines do some fancy plotting magic\n",
    "import matplotlib\n",
    "%matplotlib inline\n",
    "import matplotlib.pyplot as plt\n",
    "plt.style.use('fivethirtyeight')"
   ]
  },
  {
   "cell_type": "markdown",
   "metadata": {},
   "source": [
    "### Respiratory Illness Data\n",
    "\n",
    "We have [data](https://vincentarelbundock.github.io/Rdatasets/datasets.html) from a clinical trial of patients with respiratory illness, where 111 patients from two different clinics were randomized to receive either placebo or an active treatment. Patients were examined at baseline and at four visits during treatment. At each examination, respiratory status (categorized as 1 = good, 0 = poor) was determined. Below, we load the dataset and select only the last examination of each patient (visit = 4) to decide whether the treatment was effective or not."
   ]
  },
  {
   "cell_type": "code",
   "execution_count": null,
   "metadata": {},
   "outputs": [],
   "source": [
    "respiratory = Table.read_table(\"respiratory.csv\").where(\"visit\", are.equal_to(4))\n",
    "respiratory"
   ]
  },
  {
   "cell_type": "markdown",
   "metadata": {},
   "source": [
    "### Was the Treatment Effective?\n",
    "\n",
    "In the following, we will conduct an A/B testing to decide whether the treatment was effective or not. In fact, we want to answer this question that whether those who received active treatment are on average in better health status than the rest or not."
   ]
  },
  {
   "cell_type": "markdown",
   "metadata": {},
   "source": [
    "#### Treatment and Control Groups\n",
    "\n",
    "**Question 1.** What are the treatment and control groups in our A/B testing process?\n",
    "\n",
    "Treatment group: ... \n",
    "\n",
    "Control group: ... "
   ]
  },
  {
   "cell_type": "markdown",
   "metadata": {},
   "source": [
    "#### Null and Alternative Hypotheses\n",
    "\n",
    "**Question 2.** What are the null and alternative hypotheses in our A/B testing process?\n",
    "\n",
    "Null hypothesis: ... \n",
    "\n",
    "Alternative hypothesis: ... "
   ]
  },
  {
   "cell_type": "markdown",
   "metadata": {},
   "source": [
    "#### Test Statistic\n",
    "\n",
    "**Question 3.** Define a test statistic function for this A/B testing process. The function should take a table and the name of a column. The function should consider the values of that column as a label, divide the patients based on that label into the treatment and control groups, and then calculate the difference of average patient's health status of these two groups as the test statistic. Run this function on the current dataset to get the observed test statistic."
   ]
  },
  {
   "cell_type": "code",
   "execution_count": null,
   "metadata": {},
   "outputs": [],
   "source": [
    "def compute_test_statistic(table, label):\n",
    "    ...\n",
    "\n",
    "\n",
    "\n",
    "observed_test_statistic = ...\n",
    "observed_test_statistic"
   ]
  },
  {
   "cell_type": "markdown",
   "metadata": {},
   "source": [
    "#### Simulation with Permutation Test\n",
    "\n",
    "To see how the statistic should vary under the null hypothesis, we have to figure out how to simulate the statistic under that hypothesis. A clever method based on random permutations does just that. Tests based on random permutations of the data are called *permutation tests*. If there were no difference between the two distributions in the underlying population, then whether a patient has been in the treatment or control group should make no difference to her final health status. The idea, then, is to shuffle all the labels randomly among the patients. This is called random permutation.\n",
    "\n",
    "**Question 4.** Conduct a simulation with permutation test. In fact, you should conduct an experiment 5000 times and store the resulting test statistic of each experiment inside the array `test_statistics`. In each experiment, you should randomly shuffle the treatment label of the patients and then calculate the test statistic on the dataset with the shuffled labels.\n",
    "\n",
    "*Hint:* To randomly shuffle the labels, you can sample the table without replacement and then select the column `treat` of this sampled table. Then, you can add this column to the original table as `shuffled treat`."
   ]
  },
  {
   "cell_type": "code",
   "execution_count": null,
   "metadata": {},
   "outputs": [],
   "source": [
    "repetitions = 5000\n",
    "test_statistics = ...\n",
    "\n",
    "for i in np.arange(repetitions):\n",
    "    ...\n",
    "\n",
    "\n",
    "\n",
    "t = Table().with_column('Simulated Test Statistics', test_statistics)\n",
    "t.hist()\n",
    "plt.scatter(observed_test_statistic, 0, color='red', s=30)"
   ]
  },
  {
   "cell_type": "markdown",
   "metadata": {},
   "source": [
    "#### P-Value\n",
    "\n",
    "**Question 5.** Calculate the p-value to conclude the test. Can we reject the null hypothesis or we fail to do so? Was this treatment effective for curing respiratory illness?"
   ]
  },
  {
   "cell_type": "code",
   "execution_count": null,
   "metadata": {},
   "outputs": [],
   "source": [
    "p_value = ...\n",
    "p_value"
   ]
  },
  {
   "cell_type": "markdown",
   "metadata": {},
   "source": [
    "Since the p-value is ... \\[less than 0.05 / grater or equal than 0.05\\], we ... \\[can / cannot\\] reject the null hypothesis. Thus, the treatment was ... \\[effective / ineffective\\]."
   ]
  }
 ],
 "metadata": {
  "kernelspec": {
   "display_name": "Python 3",
   "language": "python",
   "name": "python3"
  },
  "language_info": {
   "codemirror_mode": {
    "name": "ipython",
    "version": 3
   },
   "file_extension": ".py",
   "mimetype": "text/x-python",
   "name": "python",
   "nbconvert_exporter": "python",
   "pygments_lexer": "ipython3",
   "version": "3.6.9"
  }
 },
 "nbformat": 4,
 "nbformat_minor": 2
}
